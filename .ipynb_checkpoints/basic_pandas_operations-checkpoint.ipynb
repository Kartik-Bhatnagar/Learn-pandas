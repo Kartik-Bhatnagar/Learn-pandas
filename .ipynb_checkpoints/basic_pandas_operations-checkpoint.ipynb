{
 "cells": [
  {
   "cell_type": "code",
   "execution_count": 88,
   "id": "eff451fa",
   "metadata": {},
   "outputs": [],
   "source": [
    "import pandas as pd"
   ]
  },
  {
   "cell_type": "markdown",
   "id": "06d2e538",
   "metadata": {},
   "source": [
    "### importing data"
   ]
  },
  {
   "cell_type": "code",
   "execution_count": 89,
   "id": "da776ce0",
   "metadata": {},
   "outputs": [],
   "source": [
    "df =pd.read_csv(\"Data/country_total.csv\")"
   ]
  },
  {
   "cell_type": "markdown",
   "id": "046b16ba",
   "metadata": {},
   "source": [
    "### Inspecting the DataFrame"
   ]
  },
  {
   "cell_type": "code",
   "execution_count": 90,
   "id": "6fd0a3b0",
   "metadata": {},
   "outputs": [
    {
     "data": {
      "text/html": [
       "<div>\n",
       "<style scoped>\n",
       "    .dataframe tbody tr th:only-of-type {\n",
       "        vertical-align: middle;\n",
       "    }\n",
       "\n",
       "    .dataframe tbody tr th {\n",
       "        vertical-align: top;\n",
       "    }\n",
       "\n",
       "    .dataframe thead th {\n",
       "        text-align: right;\n",
       "    }\n",
       "</style>\n",
       "<table border=\"1\" class=\"dataframe\">\n",
       "  <thead>\n",
       "    <tr style=\"text-align: right;\">\n",
       "      <th></th>\n",
       "      <th>country</th>\n",
       "      <th>seasonality</th>\n",
       "      <th>month</th>\n",
       "      <th>unemployment</th>\n",
       "      <th>unemployment_rate</th>\n",
       "    </tr>\n",
       "  </thead>\n",
       "  <tbody>\n",
       "    <tr>\n",
       "      <th>0</th>\n",
       "      <td>at</td>\n",
       "      <td>nsa</td>\n",
       "      <td>1993.01</td>\n",
       "      <td>171000</td>\n",
       "      <td>4.5</td>\n",
       "    </tr>\n",
       "    <tr>\n",
       "      <th>1</th>\n",
       "      <td>at</td>\n",
       "      <td>nsa</td>\n",
       "      <td>1993.02</td>\n",
       "      <td>175000</td>\n",
       "      <td>4.6</td>\n",
       "    </tr>\n",
       "    <tr>\n",
       "      <th>2</th>\n",
       "      <td>at</td>\n",
       "      <td>nsa</td>\n",
       "      <td>1993.03</td>\n",
       "      <td>166000</td>\n",
       "      <td>4.4</td>\n",
       "    </tr>\n",
       "    <tr>\n",
       "      <th>3</th>\n",
       "      <td>at</td>\n",
       "      <td>nsa</td>\n",
       "      <td>1993.04</td>\n",
       "      <td>157000</td>\n",
       "      <td>4.1</td>\n",
       "    </tr>\n",
       "    <tr>\n",
       "      <th>4</th>\n",
       "      <td>at</td>\n",
       "      <td>nsa</td>\n",
       "      <td>1993.05</td>\n",
       "      <td>147000</td>\n",
       "      <td>3.9</td>\n",
       "    </tr>\n",
       "  </tbody>\n",
       "</table>\n",
       "</div>"
      ],
      "text/plain": [
       "  country seasonality    month  unemployment  unemployment_rate\n",
       "0      at         nsa  1993.01        171000                4.5\n",
       "1      at         nsa  1993.02        175000                4.6\n",
       "2      at         nsa  1993.03        166000                4.4\n",
       "3      at         nsa  1993.04        157000                4.1\n",
       "4      at         nsa  1993.05        147000                3.9"
      ]
     },
     "execution_count": 90,
     "metadata": {},
     "output_type": "execute_result"
    }
   ],
   "source": [
    "df.head()"
   ]
  },
  {
   "cell_type": "code",
   "execution_count": 91,
   "id": "1a717491",
   "metadata": {},
   "outputs": [
    {
     "data": {
      "text/html": [
       "<div>\n",
       "<style scoped>\n",
       "    .dataframe tbody tr th:only-of-type {\n",
       "        vertical-align: middle;\n",
       "    }\n",
       "\n",
       "    .dataframe tbody tr th {\n",
       "        vertical-align: top;\n",
       "    }\n",
       "\n",
       "    .dataframe thead th {\n",
       "        text-align: right;\n",
       "    }\n",
       "</style>\n",
       "<table border=\"1\" class=\"dataframe\">\n",
       "  <thead>\n",
       "    <tr style=\"text-align: right;\">\n",
       "      <th></th>\n",
       "      <th>country</th>\n",
       "      <th>seasonality</th>\n",
       "      <th>month</th>\n",
       "      <th>unemployment</th>\n",
       "      <th>unemployment_rate</th>\n",
       "    </tr>\n",
       "  </thead>\n",
       "  <tbody>\n",
       "    <tr>\n",
       "      <th>20791</th>\n",
       "      <td>uk</td>\n",
       "      <td>trend</td>\n",
       "      <td>2010.06</td>\n",
       "      <td>2429000</td>\n",
       "      <td>7.7</td>\n",
       "    </tr>\n",
       "    <tr>\n",
       "      <th>20792</th>\n",
       "      <td>uk</td>\n",
       "      <td>trend</td>\n",
       "      <td>2010.07</td>\n",
       "      <td>2422000</td>\n",
       "      <td>7.7</td>\n",
       "    </tr>\n",
       "    <tr>\n",
       "      <th>20793</th>\n",
       "      <td>uk</td>\n",
       "      <td>trend</td>\n",
       "      <td>2010.08</td>\n",
       "      <td>2429000</td>\n",
       "      <td>7.7</td>\n",
       "    </tr>\n",
       "    <tr>\n",
       "      <th>20794</th>\n",
       "      <td>uk</td>\n",
       "      <td>trend</td>\n",
       "      <td>2010.09</td>\n",
       "      <td>2447000</td>\n",
       "      <td>7.8</td>\n",
       "    </tr>\n",
       "    <tr>\n",
       "      <th>20795</th>\n",
       "      <td>uk</td>\n",
       "      <td>trend</td>\n",
       "      <td>2010.10</td>\n",
       "      <td>2455000</td>\n",
       "      <td>7.8</td>\n",
       "    </tr>\n",
       "  </tbody>\n",
       "</table>\n",
       "</div>"
      ],
      "text/plain": [
       "      country seasonality    month  unemployment  unemployment_rate\n",
       "20791      uk       trend  2010.06       2429000                7.7\n",
       "20792      uk       trend  2010.07       2422000                7.7\n",
       "20793      uk       trend  2010.08       2429000                7.7\n",
       "20794      uk       trend  2010.09       2447000                7.8\n",
       "20795      uk       trend  2010.10       2455000                7.8"
      ]
     },
     "execution_count": 91,
     "metadata": {},
     "output_type": "execute_result"
    }
   ],
   "source": [
    "df.tail()"
   ]
  },
  {
   "cell_type": "code",
   "execution_count": 92,
   "id": "fc250051",
   "metadata": {},
   "outputs": [
    {
     "data": {
      "text/html": [
       "<div>\n",
       "<style scoped>\n",
       "    .dataframe tbody tr th:only-of-type {\n",
       "        vertical-align: middle;\n",
       "    }\n",
       "\n",
       "    .dataframe tbody tr th {\n",
       "        vertical-align: top;\n",
       "    }\n",
       "\n",
       "    .dataframe thead th {\n",
       "        text-align: right;\n",
       "    }\n",
       "</style>\n",
       "<table border=\"1\" class=\"dataframe\">\n",
       "  <thead>\n",
       "    <tr style=\"text-align: right;\">\n",
       "      <th></th>\n",
       "      <th>country</th>\n",
       "      <th>seasonality</th>\n",
       "      <th>month</th>\n",
       "      <th>unemployment</th>\n",
       "      <th>unemployment_rate</th>\n",
       "    </tr>\n",
       "  </thead>\n",
       "  <tbody>\n",
       "    <tr>\n",
       "      <th>20793</th>\n",
       "      <td>uk</td>\n",
       "      <td>trend</td>\n",
       "      <td>2010.08</td>\n",
       "      <td>2429000</td>\n",
       "      <td>7.7</td>\n",
       "    </tr>\n",
       "    <tr>\n",
       "      <th>20794</th>\n",
       "      <td>uk</td>\n",
       "      <td>trend</td>\n",
       "      <td>2010.09</td>\n",
       "      <td>2447000</td>\n",
       "      <td>7.8</td>\n",
       "    </tr>\n",
       "    <tr>\n",
       "      <th>20795</th>\n",
       "      <td>uk</td>\n",
       "      <td>trend</td>\n",
       "      <td>2010.10</td>\n",
       "      <td>2455000</td>\n",
       "      <td>7.8</td>\n",
       "    </tr>\n",
       "  </tbody>\n",
       "</table>\n",
       "</div>"
      ],
      "text/plain": [
       "      country seasonality    month  unemployment  unemployment_rate\n",
       "20793      uk       trend  2010.08       2429000                7.7\n",
       "20794      uk       trend  2010.09       2447000                7.8\n",
       "20795      uk       trend  2010.10       2455000                7.8"
      ]
     },
     "execution_count": 92,
     "metadata": {},
     "output_type": "execute_result"
    }
   ],
   "source": [
    "df.tail(3)"
   ]
  },
  {
   "cell_type": "code",
   "execution_count": 93,
   "id": "30a09979",
   "metadata": {},
   "outputs": [
    {
     "data": {
      "text/html": [
       "<div>\n",
       "<style scoped>\n",
       "    .dataframe tbody tr th:only-of-type {\n",
       "        vertical-align: middle;\n",
       "    }\n",
       "\n",
       "    .dataframe tbody tr th {\n",
       "        vertical-align: top;\n",
       "    }\n",
       "\n",
       "    .dataframe thead th {\n",
       "        text-align: right;\n",
       "    }\n",
       "</style>\n",
       "<table border=\"1\" class=\"dataframe\">\n",
       "  <thead>\n",
       "    <tr style=\"text-align: right;\">\n",
       "      <th></th>\n",
       "      <th>country</th>\n",
       "      <th>seasonality</th>\n",
       "      <th>month</th>\n",
       "      <th>unemployment</th>\n",
       "      <th>unemployment_rate</th>\n",
       "    </tr>\n",
       "  </thead>\n",
       "  <tbody>\n",
       "    <tr>\n",
       "      <th>6323</th>\n",
       "      <td>fi</td>\n",
       "      <td>sa</td>\n",
       "      <td>1991.09</td>\n",
       "      <td>199000</td>\n",
       "      <td>7.9</td>\n",
       "    </tr>\n",
       "    <tr>\n",
       "      <th>12017</th>\n",
       "      <td>lu</td>\n",
       "      <td>sa</td>\n",
       "      <td>1991.06</td>\n",
       "      <td>3000</td>\n",
       "      <td>1.6</td>\n",
       "    </tr>\n",
       "    <tr>\n",
       "      <th>12322</th>\n",
       "      <td>lu</td>\n",
       "      <td>trend</td>\n",
       "      <td>1988.11</td>\n",
       "      <td>3000</td>\n",
       "      <td>1.8</td>\n",
       "    </tr>\n",
       "    <tr>\n",
       "      <th>18030</th>\n",
       "      <td>se</td>\n",
       "      <td>sa</td>\n",
       "      <td>2005.07</td>\n",
       "      <td>378000</td>\n",
       "      <td>8.1</td>\n",
       "    </tr>\n",
       "    <tr>\n",
       "      <th>13840</th>\n",
       "      <td>nl</td>\n",
       "      <td>nsa</td>\n",
       "      <td>2001.02</td>\n",
       "      <td>226000</td>\n",
       "      <td>2.8</td>\n",
       "    </tr>\n",
       "    <tr>\n",
       "      <th>19375</th>\n",
       "      <td>sk</td>\n",
       "      <td>sa</td>\n",
       "      <td>2009.08</td>\n",
       "      <td>342000</td>\n",
       "      <td>12.7</td>\n",
       "    </tr>\n",
       "    <tr>\n",
       "      <th>11882</th>\n",
       "      <td>lu</td>\n",
       "      <td>nsa</td>\n",
       "      <td>2008.03</td>\n",
       "      <td>10000</td>\n",
       "      <td>4.6</td>\n",
       "    </tr>\n",
       "    <tr>\n",
       "      <th>17862</th>\n",
       "      <td>se</td>\n",
       "      <td>sa</td>\n",
       "      <td>1991.07</td>\n",
       "      <td>145000</td>\n",
       "      <td>3.2</td>\n",
       "    </tr>\n",
       "    <tr>\n",
       "      <th>13183</th>\n",
       "      <td>mt</td>\n",
       "      <td>nsa</td>\n",
       "      <td>2006.05</td>\n",
       "      <td>11000</td>\n",
       "      <td>6.8</td>\n",
       "    </tr>\n",
       "    <tr>\n",
       "      <th>14429</th>\n",
       "      <td>nl</td>\n",
       "      <td>trend</td>\n",
       "      <td>1994.03</td>\n",
       "      <td>423000</td>\n",
       "      <td>5.9</td>\n",
       "    </tr>\n",
       "  </tbody>\n",
       "</table>\n",
       "</div>"
      ],
      "text/plain": [
       "      country seasonality    month  unemployment  unemployment_rate\n",
       "6323       fi          sa  1991.09        199000                7.9\n",
       "12017      lu          sa  1991.06          3000                1.6\n",
       "12322      lu       trend  1988.11          3000                1.8\n",
       "18030      se          sa  2005.07        378000                8.1\n",
       "13840      nl         nsa  2001.02        226000                2.8\n",
       "19375      sk          sa  2009.08        342000               12.7\n",
       "11882      lu         nsa  2008.03         10000                4.6\n",
       "17862      se          sa  1991.07        145000                3.2\n",
       "13183      mt         nsa  2006.05         11000                6.8\n",
       "14429      nl       trend  1994.03        423000                5.9"
      ]
     },
     "execution_count": 93,
     "metadata": {},
     "output_type": "execute_result"
    }
   ],
   "source": [
    "df.sample(10)"
   ]
  },
  {
   "cell_type": "code",
   "execution_count": 94,
   "id": "cc3a3ccc",
   "metadata": {},
   "outputs": [
    {
     "name": "stdout",
     "output_type": "stream",
     "text": [
      "      country seasonality    month  unemployment  unemployment_rate\n",
      "0          at         nsa  1993.01        171000                4.5\n",
      "1          at         nsa  1993.02        175000                4.6\n",
      "2          at         nsa  1993.03        166000                4.4\n",
      "3          at         nsa  1993.04        157000                4.1\n",
      "4          at         nsa  1993.05        147000                3.9\n",
      "...       ...         ...      ...           ...                ...\n",
      "20791      uk       trend  2010.06       2429000                7.7\n",
      "20792      uk       trend  2010.07       2422000                7.7\n",
      "20793      uk       trend  2010.08       2429000                7.7\n",
      "20794      uk       trend  2010.09       2447000                7.8\n",
      "20795      uk       trend  2010.10       2455000                7.8\n",
      "\n",
      "[20796 rows x 5 columns]\n"
     ]
    }
   ],
   "source": [
    "print(df)"
   ]
  },
  {
   "cell_type": "code",
   "execution_count": 95,
   "id": "061d46b1",
   "metadata": {},
   "outputs": [
    {
     "data": {
      "text/plain": [
       "(20796, 5)"
      ]
     },
     "execution_count": 95,
     "metadata": {},
     "output_type": "execute_result"
    }
   ],
   "source": [
    "df.shape"
   ]
  },
  {
   "cell_type": "code",
   "execution_count": 96,
   "id": "14a32042",
   "metadata": {},
   "outputs": [
    {
     "data": {
      "text/html": [
       "<div>\n",
       "<style scoped>\n",
       "    .dataframe tbody tr th:only-of-type {\n",
       "        vertical-align: middle;\n",
       "    }\n",
       "\n",
       "    .dataframe tbody tr th {\n",
       "        vertical-align: top;\n",
       "    }\n",
       "\n",
       "    .dataframe thead th {\n",
       "        text-align: right;\n",
       "    }\n",
       "</style>\n",
       "<table border=\"1\" class=\"dataframe\">\n",
       "  <thead>\n",
       "    <tr style=\"text-align: right;\">\n",
       "      <th></th>\n",
       "      <th>month</th>\n",
       "      <th>unemployment</th>\n",
       "      <th>unemployment_rate</th>\n",
       "    </tr>\n",
       "  </thead>\n",
       "  <tbody>\n",
       "    <tr>\n",
       "      <th>count</th>\n",
       "      <td>20796.000000</td>\n",
       "      <td>2.079600e+04</td>\n",
       "      <td>19851.000000</td>\n",
       "    </tr>\n",
       "    <tr>\n",
       "      <th>mean</th>\n",
       "      <td>1999.401290</td>\n",
       "      <td>7.900818e+05</td>\n",
       "      <td>8.179764</td>\n",
       "    </tr>\n",
       "    <tr>\n",
       "      <th>std</th>\n",
       "      <td>7.483751</td>\n",
       "      <td>1.015280e+06</td>\n",
       "      <td>3.922533</td>\n",
       "    </tr>\n",
       "    <tr>\n",
       "      <th>min</th>\n",
       "      <td>1983.010000</td>\n",
       "      <td>2.000000e+03</td>\n",
       "      <td>1.100000</td>\n",
       "    </tr>\n",
       "    <tr>\n",
       "      <th>25%</th>\n",
       "      <td>1994.090000</td>\n",
       "      <td>1.400000e+05</td>\n",
       "      <td>5.200000</td>\n",
       "    </tr>\n",
       "    <tr>\n",
       "      <th>50%</th>\n",
       "      <td>2001.010000</td>\n",
       "      <td>3.100000e+05</td>\n",
       "      <td>7.600000</td>\n",
       "    </tr>\n",
       "    <tr>\n",
       "      <th>75%</th>\n",
       "      <td>2006.010000</td>\n",
       "      <td>1.262250e+06</td>\n",
       "      <td>10.000000</td>\n",
       "    </tr>\n",
       "    <tr>\n",
       "      <th>max</th>\n",
       "      <td>2010.120000</td>\n",
       "      <td>4.773000e+06</td>\n",
       "      <td>20.900000</td>\n",
       "    </tr>\n",
       "  </tbody>\n",
       "</table>\n",
       "</div>"
      ],
      "text/plain": [
       "              month  unemployment  unemployment_rate\n",
       "count  20796.000000  2.079600e+04       19851.000000\n",
       "mean    1999.401290  7.900818e+05           8.179764\n",
       "std        7.483751  1.015280e+06           3.922533\n",
       "min     1983.010000  2.000000e+03           1.100000\n",
       "25%     1994.090000  1.400000e+05           5.200000\n",
       "50%     2001.010000  3.100000e+05           7.600000\n",
       "75%     2006.010000  1.262250e+06          10.000000\n",
       "max     2010.120000  4.773000e+06          20.900000"
      ]
     },
     "execution_count": 96,
     "metadata": {},
     "output_type": "execute_result"
    }
   ],
   "source": [
    "df.describe()"
   ]
  },
  {
   "cell_type": "code",
   "execution_count": 97,
   "id": "ad86a3e5",
   "metadata": {},
   "outputs": [
    {
     "name": "stdout",
     "output_type": "stream",
     "text": [
      "<class 'pandas.core.frame.DataFrame'>\n",
      "RangeIndex: 20796 entries, 0 to 20795\n",
      "Data columns (total 5 columns):\n",
      " #   Column             Non-Null Count  Dtype  \n",
      "---  ------             --------------  -----  \n",
      " 0   country            20796 non-null  object \n",
      " 1   seasonality        20796 non-null  object \n",
      " 2   month              20796 non-null  float64\n",
      " 3   unemployment       20796 non-null  int64  \n",
      " 4   unemployment_rate  19851 non-null  float64\n",
      "dtypes: float64(2), int64(1), object(2)\n",
      "memory usage: 812.5+ KB\n"
     ]
    }
   ],
   "source": [
    "df.info()"
   ]
  },
  {
   "cell_type": "code",
   "execution_count": 123,
   "id": "7e9f5b86",
   "metadata": {},
   "outputs": [
    {
     "data": {
      "text/plain": [
       "array([['at', 'nsa', 1993.01, 171000, 4.5],\n",
       "       ['at', 'nsa', 1993.02, 175000, 4.6],\n",
       "       ['at', 'nsa', 1993.03, 166000, 4.4],\n",
       "       ...,\n",
       "       ['uk', 'trend', 2010.08, 2429000, 7.7],\n",
       "       ['uk', 'trend', 2010.09, 2447000, 7.8],\n",
       "       ['uk', 'trend', 2010.1, 2455000, 7.8]], dtype=object)"
      ]
     },
     "execution_count": 123,
     "metadata": {},
     "output_type": "execute_result"
    }
   ],
   "source": [
    "df.values #2-dimensional numpy array"
   ]
  },
  {
   "cell_type": "code",
   "execution_count": 124,
   "id": "aa23afac",
   "metadata": {},
   "outputs": [
    {
     "data": {
      "text/plain": [
       "Index(['country', 'seasonality', 'month', 'unemployment', 'unemployment_rate'], dtype='object')"
      ]
     },
     "execution_count": 124,
     "metadata": {},
     "output_type": "execute_result"
    }
   ],
   "source": [
    "df.columns"
   ]
  },
  {
   "cell_type": "code",
   "execution_count": 126,
   "id": "62a5020f",
   "metadata": {},
   "outputs": [
    {
     "data": {
      "text/plain": [
       "RangeIndex(start=0, stop=20796, step=1)"
      ]
     },
     "execution_count": 126,
     "metadata": {},
     "output_type": "execute_result"
    }
   ],
   "source": [
    "df.index"
   ]
  },
  {
   "cell_type": "markdown",
   "id": "c0249a9c",
   "metadata": {},
   "source": [
    "### fetching data"
   ]
  },
  {
   "cell_type": "markdown",
   "id": "836a8eb0",
   "metadata": {},
   "source": [
    "####  rows"
   ]
  },
  {
   "cell_type": "code",
   "execution_count": 98,
   "id": "d0f9609c",
   "metadata": {},
   "outputs": [
    {
     "data": {
      "text/plain": [
       "country                   at\n",
       "seasonality              nsa\n",
       "month                1993.01\n",
       "unemployment          171000\n",
       "unemployment_rate        4.5\n",
       "Name: 0, dtype: object"
      ]
     },
     "execution_count": 98,
     "metadata": {},
     "output_type": "execute_result"
    }
   ],
   "source": [
    "df.iloc[0]"
   ]
  },
  {
   "cell_type": "code",
   "execution_count": 99,
   "id": "4515d29e",
   "metadata": {},
   "outputs": [
    {
     "data": {
      "text/plain": [
       "pandas.core.series.Series"
      ]
     },
     "execution_count": 99,
     "metadata": {},
     "output_type": "execute_result"
    }
   ],
   "source": [
    "type(df.iloc[0])"
   ]
  },
  {
   "cell_type": "code",
   "execution_count": 100,
   "id": "2cd4c0aa",
   "metadata": {},
   "outputs": [
    {
     "data": {
      "text/html": [
       "<div>\n",
       "<style scoped>\n",
       "    .dataframe tbody tr th:only-of-type {\n",
       "        vertical-align: middle;\n",
       "    }\n",
       "\n",
       "    .dataframe tbody tr th {\n",
       "        vertical-align: top;\n",
       "    }\n",
       "\n",
       "    .dataframe thead th {\n",
       "        text-align: right;\n",
       "    }\n",
       "</style>\n",
       "<table border=\"1\" class=\"dataframe\">\n",
       "  <thead>\n",
       "    <tr style=\"text-align: right;\">\n",
       "      <th></th>\n",
       "      <th>country</th>\n",
       "      <th>seasonality</th>\n",
       "      <th>month</th>\n",
       "      <th>unemployment</th>\n",
       "      <th>unemployment_rate</th>\n",
       "    </tr>\n",
       "  </thead>\n",
       "  <tbody>\n",
       "    <tr>\n",
       "      <th>0</th>\n",
       "      <td>at</td>\n",
       "      <td>nsa</td>\n",
       "      <td>1993.01</td>\n",
       "      <td>171000</td>\n",
       "      <td>4.5</td>\n",
       "    </tr>\n",
       "    <tr>\n",
       "      <th>1</th>\n",
       "      <td>at</td>\n",
       "      <td>nsa</td>\n",
       "      <td>1993.02</td>\n",
       "      <td>175000</td>\n",
       "      <td>4.6</td>\n",
       "    </tr>\n",
       "    <tr>\n",
       "      <th>2</th>\n",
       "      <td>at</td>\n",
       "      <td>nsa</td>\n",
       "      <td>1993.03</td>\n",
       "      <td>166000</td>\n",
       "      <td>4.4</td>\n",
       "    </tr>\n",
       "    <tr>\n",
       "      <th>3</th>\n",
       "      <td>at</td>\n",
       "      <td>nsa</td>\n",
       "      <td>1993.04</td>\n",
       "      <td>157000</td>\n",
       "      <td>4.1</td>\n",
       "    </tr>\n",
       "    <tr>\n",
       "      <th>4</th>\n",
       "      <td>at</td>\n",
       "      <td>nsa</td>\n",
       "      <td>1993.05</td>\n",
       "      <td>147000</td>\n",
       "      <td>3.9</td>\n",
       "    </tr>\n",
       "    <tr>\n",
       "      <th>5</th>\n",
       "      <td>at</td>\n",
       "      <td>nsa</td>\n",
       "      <td>1993.06</td>\n",
       "      <td>134000</td>\n",
       "      <td>3.5</td>\n",
       "    </tr>\n",
       "    <tr>\n",
       "      <th>6</th>\n",
       "      <td>at</td>\n",
       "      <td>nsa</td>\n",
       "      <td>1993.07</td>\n",
       "      <td>128000</td>\n",
       "      <td>3.4</td>\n",
       "    </tr>\n",
       "  </tbody>\n",
       "</table>\n",
       "</div>"
      ],
      "text/plain": [
       "  country seasonality    month  unemployment  unemployment_rate\n",
       "0      at         nsa  1993.01        171000                4.5\n",
       "1      at         nsa  1993.02        175000                4.6\n",
       "2      at         nsa  1993.03        166000                4.4\n",
       "3      at         nsa  1993.04        157000                4.1\n",
       "4      at         nsa  1993.05        147000                3.9\n",
       "5      at         nsa  1993.06        134000                3.5\n",
       "6      at         nsa  1993.07        128000                3.4"
      ]
     },
     "execution_count": 100,
     "metadata": {},
     "output_type": "execute_result"
    }
   ],
   "source": [
    "df.iloc[0:7]"
   ]
  },
  {
   "cell_type": "code",
   "execution_count": 101,
   "id": "c3721629",
   "metadata": {},
   "outputs": [
    {
     "data": {
      "text/plain": [
       "pandas.core.frame.DataFrame"
      ]
     },
     "execution_count": 101,
     "metadata": {},
     "output_type": "execute_result"
    }
   ],
   "source": [
    "type(df.iloc[0:7])"
   ]
  },
  {
   "cell_type": "code",
   "execution_count": 102,
   "id": "d13e8b90",
   "metadata": {},
   "outputs": [
    {
     "data": {
      "text/html": [
       "<div>\n",
       "<style scoped>\n",
       "    .dataframe tbody tr th:only-of-type {\n",
       "        vertical-align: middle;\n",
       "    }\n",
       "\n",
       "    .dataframe tbody tr th {\n",
       "        vertical-align: top;\n",
       "    }\n",
       "\n",
       "    .dataframe thead th {\n",
       "        text-align: right;\n",
       "    }\n",
       "</style>\n",
       "<table border=\"1\" class=\"dataframe\">\n",
       "  <thead>\n",
       "    <tr style=\"text-align: right;\">\n",
       "      <th></th>\n",
       "      <th>country</th>\n",
       "      <th>seasonality</th>\n",
       "      <th>month</th>\n",
       "      <th>unemployment</th>\n",
       "      <th>unemployment_rate</th>\n",
       "    </tr>\n",
       "  </thead>\n",
       "  <tbody>\n",
       "    <tr>\n",
       "      <th>3</th>\n",
       "      <td>at</td>\n",
       "      <td>nsa</td>\n",
       "      <td>1993.04</td>\n",
       "      <td>157000</td>\n",
       "      <td>4.1</td>\n",
       "    </tr>\n",
       "    <tr>\n",
       "      <th>47</th>\n",
       "      <td>at</td>\n",
       "      <td>nsa</td>\n",
       "      <td>1996.12</td>\n",
       "      <td>173000</td>\n",
       "      <td>4.6</td>\n",
       "    </tr>\n",
       "    <tr>\n",
       "      <th>459</th>\n",
       "      <td>at</td>\n",
       "      <td>trend</td>\n",
       "      <td>1995.04</td>\n",
       "      <td>143000</td>\n",
       "      <td>3.8</td>\n",
       "    </tr>\n",
       "    <tr>\n",
       "      <th>2851</th>\n",
       "      <td>cz</td>\n",
       "      <td>sa</td>\n",
       "      <td>2003.08</td>\n",
       "      <td>407000</td>\n",
       "      <td>8.0</td>\n",
       "    </tr>\n",
       "  </tbody>\n",
       "</table>\n",
       "</div>"
      ],
      "text/plain": [
       "     country seasonality    month  unemployment  unemployment_rate\n",
       "3         at         nsa  1993.04        157000                4.1\n",
       "47        at         nsa  1996.12        173000                4.6\n",
       "459       at       trend  1995.04        143000                3.8\n",
       "2851      cz          sa  2003.08        407000                8.0"
      ]
     },
     "execution_count": 102,
     "metadata": {},
     "output_type": "execute_result"
    }
   ],
   "source": [
    "df.iloc[[3,47,459,2851]] #random rows"
   ]
  },
  {
   "cell_type": "markdown",
   "id": "3822d4cb",
   "metadata": {},
   "source": [
    "####  columns"
   ]
  },
  {
   "cell_type": "code",
   "execution_count": 103,
   "id": "135390a4",
   "metadata": {},
   "outputs": [
    {
     "data": {
      "text/plain": [
       "0        1993.01\n",
       "1        1993.02\n",
       "2        1993.03\n",
       "3        1993.04\n",
       "4        1993.05\n",
       "          ...   \n",
       "20791    2010.06\n",
       "20792    2010.07\n",
       "20793    2010.08\n",
       "20794    2010.09\n",
       "20795    2010.10\n",
       "Name: month, Length: 20796, dtype: float64"
      ]
     },
     "execution_count": 103,
     "metadata": {},
     "output_type": "execute_result"
    }
   ],
   "source": [
    "df['month'] # single column"
   ]
  },
  {
   "cell_type": "code",
   "execution_count": 104,
   "id": "a5727708",
   "metadata": {},
   "outputs": [
    {
     "data": {
      "text/html": [
       "<div>\n",
       "<style scoped>\n",
       "    .dataframe tbody tr th:only-of-type {\n",
       "        vertical-align: middle;\n",
       "    }\n",
       "\n",
       "    .dataframe tbody tr th {\n",
       "        vertical-align: top;\n",
       "    }\n",
       "\n",
       "    .dataframe thead th {\n",
       "        text-align: right;\n",
       "    }\n",
       "</style>\n",
       "<table border=\"1\" class=\"dataframe\">\n",
       "  <thead>\n",
       "    <tr style=\"text-align: right;\">\n",
       "      <th></th>\n",
       "      <th>country</th>\n",
       "      <th>unemployment</th>\n",
       "    </tr>\n",
       "  </thead>\n",
       "  <tbody>\n",
       "    <tr>\n",
       "      <th>0</th>\n",
       "      <td>at</td>\n",
       "      <td>171000</td>\n",
       "    </tr>\n",
       "    <tr>\n",
       "      <th>1</th>\n",
       "      <td>at</td>\n",
       "      <td>175000</td>\n",
       "    </tr>\n",
       "    <tr>\n",
       "      <th>2</th>\n",
       "      <td>at</td>\n",
       "      <td>166000</td>\n",
       "    </tr>\n",
       "    <tr>\n",
       "      <th>3</th>\n",
       "      <td>at</td>\n",
       "      <td>157000</td>\n",
       "    </tr>\n",
       "    <tr>\n",
       "      <th>4</th>\n",
       "      <td>at</td>\n",
       "      <td>147000</td>\n",
       "    </tr>\n",
       "    <tr>\n",
       "      <th>...</th>\n",
       "      <td>...</td>\n",
       "      <td>...</td>\n",
       "    </tr>\n",
       "    <tr>\n",
       "      <th>20791</th>\n",
       "      <td>uk</td>\n",
       "      <td>2429000</td>\n",
       "    </tr>\n",
       "    <tr>\n",
       "      <th>20792</th>\n",
       "      <td>uk</td>\n",
       "      <td>2422000</td>\n",
       "    </tr>\n",
       "    <tr>\n",
       "      <th>20793</th>\n",
       "      <td>uk</td>\n",
       "      <td>2429000</td>\n",
       "    </tr>\n",
       "    <tr>\n",
       "      <th>20794</th>\n",
       "      <td>uk</td>\n",
       "      <td>2447000</td>\n",
       "    </tr>\n",
       "    <tr>\n",
       "      <th>20795</th>\n",
       "      <td>uk</td>\n",
       "      <td>2455000</td>\n",
       "    </tr>\n",
       "  </tbody>\n",
       "</table>\n",
       "<p>20796 rows × 2 columns</p>\n",
       "</div>"
      ],
      "text/plain": [
       "      country  unemployment\n",
       "0          at        171000\n",
       "1          at        175000\n",
       "2          at        166000\n",
       "3          at        157000\n",
       "4          at        147000\n",
       "...       ...           ...\n",
       "20791      uk       2429000\n",
       "20792      uk       2422000\n",
       "20793      uk       2429000\n",
       "20794      uk       2447000\n",
       "20795      uk       2455000\n",
       "\n",
       "[20796 rows x 2 columns]"
      ]
     },
     "execution_count": 104,
     "metadata": {},
     "output_type": "execute_result"
    }
   ],
   "source": [
    "df[['country','unemployment']]"
   ]
  },
  {
   "cell_type": "code",
   "execution_count": 105,
   "id": "c77914b8",
   "metadata": {},
   "outputs": [
    {
     "data": {
      "text/html": [
       "<div>\n",
       "<style scoped>\n",
       "    .dataframe tbody tr th:only-of-type {\n",
       "        vertical-align: middle;\n",
       "    }\n",
       "\n",
       "    .dataframe tbody tr th {\n",
       "        vertical-align: top;\n",
       "    }\n",
       "\n",
       "    .dataframe thead th {\n",
       "        text-align: right;\n",
       "    }\n",
       "</style>\n",
       "<table border=\"1\" class=\"dataframe\">\n",
       "  <thead>\n",
       "    <tr style=\"text-align: right;\">\n",
       "      <th></th>\n",
       "      <th>country</th>\n",
       "      <th>unemployment_rate</th>\n",
       "    </tr>\n",
       "  </thead>\n",
       "  <tbody>\n",
       "    <tr>\n",
       "      <th>0</th>\n",
       "      <td>at</td>\n",
       "      <td>4.5</td>\n",
       "    </tr>\n",
       "    <tr>\n",
       "      <th>1</th>\n",
       "      <td>at</td>\n",
       "      <td>4.6</td>\n",
       "    </tr>\n",
       "    <tr>\n",
       "      <th>2</th>\n",
       "      <td>at</td>\n",
       "      <td>4.4</td>\n",
       "    </tr>\n",
       "    <tr>\n",
       "      <th>3</th>\n",
       "      <td>at</td>\n",
       "      <td>4.1</td>\n",
       "    </tr>\n",
       "    <tr>\n",
       "      <th>4</th>\n",
       "      <td>at</td>\n",
       "      <td>3.9</td>\n",
       "    </tr>\n",
       "    <tr>\n",
       "      <th>...</th>\n",
       "      <td>...</td>\n",
       "      <td>...</td>\n",
       "    </tr>\n",
       "    <tr>\n",
       "      <th>20791</th>\n",
       "      <td>uk</td>\n",
       "      <td>7.7</td>\n",
       "    </tr>\n",
       "    <tr>\n",
       "      <th>20792</th>\n",
       "      <td>uk</td>\n",
       "      <td>7.7</td>\n",
       "    </tr>\n",
       "    <tr>\n",
       "      <th>20793</th>\n",
       "      <td>uk</td>\n",
       "      <td>7.7</td>\n",
       "    </tr>\n",
       "    <tr>\n",
       "      <th>20794</th>\n",
       "      <td>uk</td>\n",
       "      <td>7.8</td>\n",
       "    </tr>\n",
       "    <tr>\n",
       "      <th>20795</th>\n",
       "      <td>uk</td>\n",
       "      <td>7.8</td>\n",
       "    </tr>\n",
       "  </tbody>\n",
       "</table>\n",
       "<p>20796 rows × 2 columns</p>\n",
       "</div>"
      ],
      "text/plain": [
       "      country  unemployment_rate\n",
       "0          at                4.5\n",
       "1          at                4.6\n",
       "2          at                4.4\n",
       "3          at                4.1\n",
       "4          at                3.9\n",
       "...       ...                ...\n",
       "20791      uk                7.7\n",
       "20792      uk                7.7\n",
       "20793      uk                7.7\n",
       "20794      uk                7.8\n",
       "20795      uk                7.8\n",
       "\n",
       "[20796 rows x 2 columns]"
      ]
     },
     "execution_count": 105,
     "metadata": {},
     "output_type": "execute_result"
    }
   ],
   "source": [
    "df.iloc[:,[0,4]] #using iloc to display column"
   ]
  },
  {
   "cell_type": "code",
   "execution_count": 106,
   "id": "c86095cb",
   "metadata": {},
   "outputs": [
    {
     "data": {
      "text/plain": [
       "7.2     305\n",
       "7.1     290\n",
       "7.4     285\n",
       "7.3     271\n",
       "7.8     255\n",
       "       ... \n",
       "1.3       4\n",
       "20.5      3\n",
       "20.7      2\n",
       "1.1       2\n",
       "20.9      1\n",
       "Name: unemployment_rate, Length: 197, dtype: int64"
      ]
     },
     "execution_count": 106,
     "metadata": {},
     "output_type": "execute_result"
    }
   ],
   "source": [
    "df['unemployment_rate'].value_counts()"
   ]
  },
  {
   "cell_type": "code",
   "execution_count": 107,
   "id": "4ff0df65",
   "metadata": {},
   "outputs": [
    {
     "data": {
      "text/plain": [
       "20.9      1\n",
       "1.1       2\n",
       "20.7      2\n",
       "20.5      3\n",
       "1.3       4\n",
       "       ... \n",
       "7.8     255\n",
       "7.3     271\n",
       "7.4     285\n",
       "7.1     290\n",
       "7.2     305\n",
       "Name: unemployment_rate, Length: 197, dtype: int64"
      ]
     },
     "execution_count": 107,
     "metadata": {},
     "output_type": "execute_result"
    }
   ],
   "source": [
    "df['unemployment_rate'].value_counts().sort_values(ascending=True)"
   ]
  },
  {
   "cell_type": "code",
   "execution_count": 108,
   "id": "b45df3c6",
   "metadata": {},
   "outputs": [
    {
     "data": {
      "text/plain": [
       "fr    1008\n",
       "se    1008\n",
       "pt    1008\n",
       "nl    1008\n",
       "lu    1008\n",
       "dk    1008\n",
       "be    1008\n",
       "es    1008\n",
       "ie    1008\n",
       "uk    1002\n",
       "it     924\n",
       "fi     828\n",
       "no     786\n",
       "at     648\n",
       "hu     576\n",
       "sk     576\n",
       "si     576\n",
       "bg     576\n",
       "mt     576\n",
       "pl     576\n",
       "de     504\n",
       "cz     468\n",
       "lv     459\n",
       "lt     459\n",
       "gr     450\n",
       "ro     423\n",
       "cy     396\n",
       "ee     387\n",
       "hr     324\n",
       "tr     210\n",
       "Name: country, dtype: int64"
      ]
     },
     "execution_count": 108,
     "metadata": {},
     "output_type": "execute_result"
    }
   ],
   "source": [
    "df['country'].value_counts()"
   ]
  },
  {
   "cell_type": "code",
   "execution_count": 109,
   "id": "aca2590a",
   "metadata": {},
   "outputs": [],
   "source": [
    "mask1=df[\"seasonality\"]==\"nsa\""
   ]
  },
  {
   "cell_type": "code",
   "execution_count": 110,
   "id": "c73c0da5",
   "metadata": {},
   "outputs": [],
   "source": [
    "mask2 = df[\"country\"] ==\"ro\""
   ]
  },
  {
   "cell_type": "code",
   "execution_count": 111,
   "id": "e35bbd0c",
   "metadata": {},
   "outputs": [],
   "source": [
    "mask3=df[\"unemployment_rate\"] >5.0"
   ]
  },
  {
   "cell_type": "code",
   "execution_count": 112,
   "id": "318ae41c",
   "metadata": {},
   "outputs": [
    {
     "data": {
      "text/plain": [
       "9733     False\n",
       "20344    False\n",
       "526      False\n",
       "4264      True\n",
       "19605     True\n",
       "Name: unemployment_rate, dtype: bool"
      ]
     },
     "execution_count": 112,
     "metadata": {},
     "output_type": "execute_result"
    }
   ],
   "source": [
    "mask3.sample(5)"
   ]
  },
  {
   "cell_type": "code",
   "execution_count": 113,
   "id": "4796ca60",
   "metadata": {},
   "outputs": [
    {
     "data": {
      "text/html": [
       "<div>\n",
       "<style scoped>\n",
       "    .dataframe tbody tr th:only-of-type {\n",
       "        vertical-align: middle;\n",
       "    }\n",
       "\n",
       "    .dataframe tbody tr th {\n",
       "        vertical-align: top;\n",
       "    }\n",
       "\n",
       "    .dataframe thead th {\n",
       "        text-align: right;\n",
       "    }\n",
       "</style>\n",
       "<table border=\"1\" class=\"dataframe\">\n",
       "  <thead>\n",
       "    <tr style=\"text-align: right;\">\n",
       "      <th></th>\n",
       "      <th>country</th>\n",
       "      <th>seasonality</th>\n",
       "      <th>month</th>\n",
       "      <th>unemployment</th>\n",
       "      <th>unemployment_rate</th>\n",
       "    </tr>\n",
       "  </thead>\n",
       "  <tbody>\n",
       "    <tr>\n",
       "      <th>36</th>\n",
       "      <td>at</td>\n",
       "      <td>nsa</td>\n",
       "      <td>1996.01</td>\n",
       "      <td>193000</td>\n",
       "      <td>5.1</td>\n",
       "    </tr>\n",
       "    <tr>\n",
       "      <th>37</th>\n",
       "      <td>at</td>\n",
       "      <td>nsa</td>\n",
       "      <td>1996.02</td>\n",
       "      <td>202000</td>\n",
       "      <td>5.3</td>\n",
       "    </tr>\n",
       "    <tr>\n",
       "      <th>38</th>\n",
       "      <td>at</td>\n",
       "      <td>nsa</td>\n",
       "      <td>1996.03</td>\n",
       "      <td>193000</td>\n",
       "      <td>5.1</td>\n",
       "    </tr>\n",
       "    <tr>\n",
       "      <th>49</th>\n",
       "      <td>at</td>\n",
       "      <td>nsa</td>\n",
       "      <td>1997.02</td>\n",
       "      <td>196000</td>\n",
       "      <td>5.2</td>\n",
       "    </tr>\n",
       "    <tr>\n",
       "      <th>60</th>\n",
       "      <td>at</td>\n",
       "      <td>nsa</td>\n",
       "      <td>1998.01</td>\n",
       "      <td>205000</td>\n",
       "      <td>5.4</td>\n",
       "    </tr>\n",
       "    <tr>\n",
       "      <th>...</th>\n",
       "      <td>...</td>\n",
       "      <td>...</td>\n",
       "      <td>...</td>\n",
       "      <td>...</td>\n",
       "      <td>...</td>\n",
       "    </tr>\n",
       "    <tr>\n",
       "      <th>20791</th>\n",
       "      <td>uk</td>\n",
       "      <td>trend</td>\n",
       "      <td>2010.06</td>\n",
       "      <td>2429000</td>\n",
       "      <td>7.7</td>\n",
       "    </tr>\n",
       "    <tr>\n",
       "      <th>20792</th>\n",
       "      <td>uk</td>\n",
       "      <td>trend</td>\n",
       "      <td>2010.07</td>\n",
       "      <td>2422000</td>\n",
       "      <td>7.7</td>\n",
       "    </tr>\n",
       "    <tr>\n",
       "      <th>20793</th>\n",
       "      <td>uk</td>\n",
       "      <td>trend</td>\n",
       "      <td>2010.08</td>\n",
       "      <td>2429000</td>\n",
       "      <td>7.7</td>\n",
       "    </tr>\n",
       "    <tr>\n",
       "      <th>20794</th>\n",
       "      <td>uk</td>\n",
       "      <td>trend</td>\n",
       "      <td>2010.09</td>\n",
       "      <td>2447000</td>\n",
       "      <td>7.8</td>\n",
       "    </tr>\n",
       "    <tr>\n",
       "      <th>20795</th>\n",
       "      <td>uk</td>\n",
       "      <td>trend</td>\n",
       "      <td>2010.10</td>\n",
       "      <td>2455000</td>\n",
       "      <td>7.8</td>\n",
       "    </tr>\n",
       "  </tbody>\n",
       "</table>\n",
       "<p>15221 rows × 5 columns</p>\n",
       "</div>"
      ],
      "text/plain": [
       "      country seasonality    month  unemployment  unemployment_rate\n",
       "36         at         nsa  1996.01        193000                5.1\n",
       "37         at         nsa  1996.02        202000                5.3\n",
       "38         at         nsa  1996.03        193000                5.1\n",
       "49         at         nsa  1997.02        196000                5.2\n",
       "60         at         nsa  1998.01        205000                5.4\n",
       "...       ...         ...      ...           ...                ...\n",
       "20791      uk       trend  2010.06       2429000                7.7\n",
       "20792      uk       trend  2010.07       2422000                7.7\n",
       "20793      uk       trend  2010.08       2429000                7.7\n",
       "20794      uk       trend  2010.09       2447000                7.8\n",
       "20795      uk       trend  2010.10       2455000                7.8\n",
       "\n",
       "[15221 rows x 5 columns]"
      ]
     },
     "execution_count": 113,
     "metadata": {},
     "output_type": "execute_result"
    }
   ],
   "source": [
    "df[mask3]"
   ]
  },
  {
   "cell_type": "code",
   "execution_count": 114,
   "id": "807e6bae",
   "metadata": {},
   "outputs": [
    {
     "data": {
      "text/plain": [
       "0         True\n",
       "1         True\n",
       "2         True\n",
       "3         True\n",
       "4         True\n",
       "         ...  \n",
       "20791    False\n",
       "20792    False\n",
       "20793    False\n",
       "20794    False\n",
       "20795    False\n",
       "Name: seasonality, Length: 20796, dtype: bool"
      ]
     },
     "execution_count": 114,
     "metadata": {},
     "output_type": "execute_result"
    }
   ],
   "source": [
    "mask1"
   ]
  },
  {
   "cell_type": "code",
   "execution_count": 115,
   "id": "a521f234",
   "metadata": {},
   "outputs": [],
   "source": [
    "ro_data =df[mask1 & mask2 & mask3]"
   ]
  },
  {
   "cell_type": "code",
   "execution_count": 116,
   "id": "933b735a",
   "metadata": {},
   "outputs": [
    {
     "data": {
      "text/plain": [
       "(141, 5)"
      ]
     },
     "execution_count": 116,
     "metadata": {},
     "output_type": "execute_result"
    }
   ],
   "source": [
    "ro_data.shape"
   ]
  },
  {
   "cell_type": "code",
   "execution_count": 117,
   "id": "e46ae993",
   "metadata": {},
   "outputs": [
    {
     "data": {
      "text/html": [
       "<div>\n",
       "<style scoped>\n",
       "    .dataframe tbody tr th:only-of-type {\n",
       "        vertical-align: middle;\n",
       "    }\n",
       "\n",
       "    .dataframe tbody tr th {\n",
       "        vertical-align: top;\n",
       "    }\n",
       "\n",
       "    .dataframe thead th {\n",
       "        text-align: right;\n",
       "    }\n",
       "</style>\n",
       "<table border=\"1\" class=\"dataframe\">\n",
       "  <thead>\n",
       "    <tr style=\"text-align: right;\">\n",
       "      <th></th>\n",
       "      <th>month</th>\n",
       "      <th>unemployment</th>\n",
       "      <th>unemployment_rate</th>\n",
       "    </tr>\n",
       "  </thead>\n",
       "  <tbody>\n",
       "    <tr>\n",
       "      <th>count</th>\n",
       "      <td>141.000000</td>\n",
       "      <td>1.410000e+02</td>\n",
       "      <td>141.000000</td>\n",
       "    </tr>\n",
       "    <tr>\n",
       "      <th>mean</th>\n",
       "      <td>2004.447021</td>\n",
       "      <td>7.330638e+05</td>\n",
       "      <td>7.136170</td>\n",
       "    </tr>\n",
       "    <tr>\n",
       "      <th>std</th>\n",
       "      <td>3.403746</td>\n",
       "      <td>9.935120e+04</td>\n",
       "      <td>0.972205</td>\n",
       "    </tr>\n",
       "    <tr>\n",
       "      <th>min</th>\n",
       "      <td>1999.010000</td>\n",
       "      <td>5.510000e+05</td>\n",
       "      <td>5.400000</td>\n",
       "    </tr>\n",
       "    <tr>\n",
       "      <th>25%</th>\n",
       "      <td>2001.120000</td>\n",
       "      <td>6.660000e+05</td>\n",
       "      <td>6.400000</td>\n",
       "    </tr>\n",
       "    <tr>\n",
       "      <th>50%</th>\n",
       "      <td>2004.110000</td>\n",
       "      <td>7.200000e+05</td>\n",
       "      <td>7.000000</td>\n",
       "    </tr>\n",
       "    <tr>\n",
       "      <th>75%</th>\n",
       "      <td>2007.100000</td>\n",
       "      <td>8.010000e+05</td>\n",
       "      <td>7.800000</td>\n",
       "    </tr>\n",
       "    <tr>\n",
       "      <th>max</th>\n",
       "      <td>2010.090000</td>\n",
       "      <td>1.029000e+06</td>\n",
       "      <td>10.300000</td>\n",
       "    </tr>\n",
       "  </tbody>\n",
       "</table>\n",
       "</div>"
      ],
      "text/plain": [
       "             month  unemployment  unemployment_rate\n",
       "count   141.000000  1.410000e+02         141.000000\n",
       "mean   2004.447021  7.330638e+05           7.136170\n",
       "std       3.403746  9.935120e+04           0.972205\n",
       "min    1999.010000  5.510000e+05           5.400000\n",
       "25%    2001.120000  6.660000e+05           6.400000\n",
       "50%    2004.110000  7.200000e+05           7.000000\n",
       "75%    2007.100000  8.010000e+05           7.800000\n",
       "max    2010.090000  1.029000e+06          10.300000"
      ]
     },
     "execution_count": 117,
     "metadata": {},
     "output_type": "execute_result"
    }
   ],
   "source": [
    "ro_data.describe()"
   ]
  },
  {
   "cell_type": "code",
   "execution_count": 118,
   "id": "bbeb4c36",
   "metadata": {},
   "outputs": [
    {
     "data": {
      "text/html": [
       "<div>\n",
       "<style scoped>\n",
       "    .dataframe tbody tr th:only-of-type {\n",
       "        vertical-align: middle;\n",
       "    }\n",
       "\n",
       "    .dataframe tbody tr th {\n",
       "        vertical-align: top;\n",
       "    }\n",
       "\n",
       "    .dataframe thead th {\n",
       "        text-align: right;\n",
       "    }\n",
       "</style>\n",
       "<table border=\"1\" class=\"dataframe\">\n",
       "  <thead>\n",
       "    <tr style=\"text-align: right;\">\n",
       "      <th></th>\n",
       "      <th>country</th>\n",
       "      <th>seasonality</th>\n",
       "      <th>month</th>\n",
       "      <th>unemployment</th>\n",
       "      <th>unemployment_rate</th>\n",
       "    </tr>\n",
       "  </thead>\n",
       "  <tbody>\n",
       "    <tr>\n",
       "      <th>17075</th>\n",
       "      <td>ro</td>\n",
       "      <td>nsa</td>\n",
       "      <td>2005.03</td>\n",
       "      <td>832000</td>\n",
       "      <td>8.5</td>\n",
       "    </tr>\n",
       "    <tr>\n",
       "      <th>17030</th>\n",
       "      <td>ro</td>\n",
       "      <td>nsa</td>\n",
       "      <td>2001.06</td>\n",
       "      <td>758000</td>\n",
       "      <td>6.7</td>\n",
       "    </tr>\n",
       "    <tr>\n",
       "      <th>17086</th>\n",
       "      <td>ro</td>\n",
       "      <td>nsa</td>\n",
       "      <td>2006.02</td>\n",
       "      <td>762000</td>\n",
       "      <td>7.8</td>\n",
       "    </tr>\n",
       "    <tr>\n",
       "      <th>17091</th>\n",
       "      <td>ro</td>\n",
       "      <td>nsa</td>\n",
       "      <td>2006.07</td>\n",
       "      <td>730000</td>\n",
       "      <td>7.0</td>\n",
       "    </tr>\n",
       "    <tr>\n",
       "      <th>17130</th>\n",
       "      <td>ro</td>\n",
       "      <td>nsa</td>\n",
       "      <td>2009.10</td>\n",
       "      <td>731000</td>\n",
       "      <td>7.5</td>\n",
       "    </tr>\n",
       "    <tr>\n",
       "      <th>17120</th>\n",
       "      <td>ro</td>\n",
       "      <td>nsa</td>\n",
       "      <td>2008.12</td>\n",
       "      <td>568000</td>\n",
       "      <td>5.8</td>\n",
       "    </tr>\n",
       "    <tr>\n",
       "      <th>17139</th>\n",
       "      <td>ro</td>\n",
       "      <td>nsa</td>\n",
       "      <td>2010.07</td>\n",
       "      <td>703000</td>\n",
       "      <td>6.9</td>\n",
       "    </tr>\n",
       "    <tr>\n",
       "      <th>17037</th>\n",
       "      <td>ro</td>\n",
       "      <td>nsa</td>\n",
       "      <td>2002.01</td>\n",
       "      <td>1029000</td>\n",
       "      <td>10.3</td>\n",
       "    </tr>\n",
       "    <tr>\n",
       "      <th>17013</th>\n",
       "      <td>ro</td>\n",
       "      <td>nsa</td>\n",
       "      <td>2000.01</td>\n",
       "      <td>927000</td>\n",
       "      <td>8.6</td>\n",
       "    </tr>\n",
       "    <tr>\n",
       "      <th>17043</th>\n",
       "      <td>ro</td>\n",
       "      <td>nsa</td>\n",
       "      <td>2002.07</td>\n",
       "      <td>816000</td>\n",
       "      <td>7.7</td>\n",
       "    </tr>\n",
       "    <tr>\n",
       "      <th>17042</th>\n",
       "      <td>ro</td>\n",
       "      <td>nsa</td>\n",
       "      <td>2002.06</td>\n",
       "      <td>862000</td>\n",
       "      <td>8.3</td>\n",
       "    </tr>\n",
       "    <tr>\n",
       "      <th>17085</th>\n",
       "      <td>ro</td>\n",
       "      <td>nsa</td>\n",
       "      <td>2006.01</td>\n",
       "      <td>762000</td>\n",
       "      <td>7.8</td>\n",
       "    </tr>\n",
       "  </tbody>\n",
       "</table>\n",
       "</div>"
      ],
      "text/plain": [
       "      country seasonality    month  unemployment  unemployment_rate\n",
       "17075      ro         nsa  2005.03        832000                8.5\n",
       "17030      ro         nsa  2001.06        758000                6.7\n",
       "17086      ro         nsa  2006.02        762000                7.8\n",
       "17091      ro         nsa  2006.07        730000                7.0\n",
       "17130      ro         nsa  2009.10        731000                7.5\n",
       "17120      ro         nsa  2008.12        568000                5.8\n",
       "17139      ro         nsa  2010.07        703000                6.9\n",
       "17037      ro         nsa  2002.01       1029000               10.3\n",
       "17013      ro         nsa  2000.01        927000                8.6\n",
       "17043      ro         nsa  2002.07        816000                7.7\n",
       "17042      ro         nsa  2002.06        862000                8.3\n",
       "17085      ro         nsa  2006.01        762000                7.8"
      ]
     },
     "execution_count": 118,
     "metadata": {},
     "output_type": "execute_result"
    }
   ],
   "source": [
    "ro_data.sample(12)"
   ]
  },
  {
   "cell_type": "code",
   "execution_count": null,
   "id": "9c90bb30",
   "metadata": {},
   "outputs": [],
   "source": []
  },
  {
   "cell_type": "code",
   "execution_count": null,
   "id": "427d14d1",
   "metadata": {},
   "outputs": [],
   "source": []
  },
  {
   "cell_type": "code",
   "execution_count": null,
   "id": "d6a2bd6a",
   "metadata": {},
   "outputs": [],
   "source": []
  },
  {
   "cell_type": "code",
   "execution_count": null,
   "id": "87ad92dd",
   "metadata": {},
   "outputs": [],
   "source": []
  },
  {
   "cell_type": "code",
   "execution_count": null,
   "id": "77cdc88b",
   "metadata": {},
   "outputs": [],
   "source": []
  },
  {
   "cell_type": "code",
   "execution_count": null,
   "id": "f3041c72",
   "metadata": {},
   "outputs": [],
   "source": []
  },
  {
   "cell_type": "code",
   "execution_count": null,
   "id": "cb1b960e",
   "metadata": {},
   "outputs": [],
   "source": []
  },
  {
   "cell_type": "code",
   "execution_count": null,
   "id": "1e4a6ff3",
   "metadata": {},
   "outputs": [],
   "source": []
  },
  {
   "cell_type": "code",
   "execution_count": null,
   "id": "0f47c1c4",
   "metadata": {},
   "outputs": [],
   "source": []
  },
  {
   "cell_type": "code",
   "execution_count": null,
   "id": "14af5acf",
   "metadata": {},
   "outputs": [],
   "source": []
  },
  {
   "cell_type": "code",
   "execution_count": null,
   "id": "249551a0",
   "metadata": {},
   "outputs": [],
   "source": []
  },
  {
   "cell_type": "code",
   "execution_count": null,
   "id": "634ee490",
   "metadata": {},
   "outputs": [],
   "source": []
  },
  {
   "cell_type": "code",
   "execution_count": null,
   "id": "978aa037",
   "metadata": {},
   "outputs": [],
   "source": []
  },
  {
   "cell_type": "code",
   "execution_count": null,
   "id": "273b7703",
   "metadata": {},
   "outputs": [],
   "source": []
  },
  {
   "cell_type": "code",
   "execution_count": null,
   "id": "70ce9bb9",
   "metadata": {},
   "outputs": [],
   "source": []
  }
 ],
 "metadata": {
  "kernelspec": {
   "display_name": "Python 3 (ipykernel)",
   "language": "python",
   "name": "python3"
  },
  "language_info": {
   "codemirror_mode": {
    "name": "ipython",
    "version": 3
   },
   "file_extension": ".py",
   "mimetype": "text/x-python",
   "name": "python",
   "nbconvert_exporter": "python",
   "pygments_lexer": "ipython3",
   "version": "3.9.13"
  }
 },
 "nbformat": 4,
 "nbformat_minor": 5
}
