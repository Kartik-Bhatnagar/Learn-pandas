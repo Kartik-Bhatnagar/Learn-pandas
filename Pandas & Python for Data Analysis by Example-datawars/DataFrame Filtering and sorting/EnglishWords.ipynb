{
 "cells": [
  {
   "cell_type": "code",
   "execution_count": 1,
   "id": "77bb8152-fd6e-45b5-9097-8c2fd4887054",
   "metadata": {},
   "outputs": [],
   "source": [
    "import pandas as pd"
   ]
  },
  {
   "cell_type": "code",
   "execution_count": 2,
   "id": "0656aeb9-9c0b-437e-9a48-259d9e9c1344",
   "metadata": {},
   "outputs": [],
   "source": [
    "df = pd.read_csv('../data/words.csv', index_col='Word')"
   ]
  },
  {
   "cell_type": "code",
   "execution_count": 3,
   "id": "a54007b6-5220-4ba2-b5ba-0bdad9b0158f",
   "metadata": {},
   "outputs": [
    {
     "data": {
      "text/html": [
       "<div>\n",
       "<style scoped>\n",
       "    .dataframe tbody tr th:only-of-type {\n",
       "        vertical-align: middle;\n",
       "    }\n",
       "\n",
       "    .dataframe tbody tr th {\n",
       "        vertical-align: top;\n",
       "    }\n",
       "\n",
       "    .dataframe thead th {\n",
       "        text-align: right;\n",
       "    }\n",
       "</style>\n",
       "<table border=\"1\" class=\"dataframe\">\n",
       "  <thead>\n",
       "    <tr style=\"text-align: right;\">\n",
       "      <th></th>\n",
       "      <th>Char Count</th>\n",
       "      <th>Value</th>\n",
       "    </tr>\n",
       "    <tr>\n",
       "      <th>Word</th>\n",
       "      <th></th>\n",
       "      <th></th>\n",
       "    </tr>\n",
       "  </thead>\n",
       "  <tbody>\n",
       "    <tr>\n",
       "      <th>aa</th>\n",
       "      <td>2</td>\n",
       "      <td>2</td>\n",
       "    </tr>\n",
       "    <tr>\n",
       "      <th>aah</th>\n",
       "      <td>3</td>\n",
       "      <td>10</td>\n",
       "    </tr>\n",
       "    <tr>\n",
       "      <th>aahed</th>\n",
       "      <td>5</td>\n",
       "      <td>19</td>\n",
       "    </tr>\n",
       "    <tr>\n",
       "      <th>aahing</th>\n",
       "      <td>6</td>\n",
       "      <td>40</td>\n",
       "    </tr>\n",
       "    <tr>\n",
       "      <th>aahs</th>\n",
       "      <td>4</td>\n",
       "      <td>29</td>\n",
       "    </tr>\n",
       "  </tbody>\n",
       "</table>\n",
       "</div>"
      ],
      "text/plain": [
       "        Char Count  Value\n",
       "Word                     \n",
       "aa               2      2\n",
       "aah              3     10\n",
       "aahed            5     19\n",
       "aahing           6     40\n",
       "aahs             4     29"
      ]
     },
     "execution_count": 3,
     "metadata": {},
     "output_type": "execute_result"
    }
   ],
   "source": [
    "df.head()"
   ]
  },
  {
   "cell_type": "markdown",
   "id": "98f7857a-5363-4349-b072-83c6a91bcf0f",
   "metadata": {},
   "source": [
    "### Activities"
   ]
  },
  {
   "cell_type": "markdown",
   "id": "699e5638-a370-4130-9654-0958f72b2fa1",
   "metadata": {},
   "source": [
    "##### How many elements does this dataframe have?"
   ]
  },
  {
   "cell_type": "code",
   "execution_count": 4,
   "id": "faf85418-b70c-4040-b1fb-67fda3d04d4e",
   "metadata": {},
   "outputs": [
    {
     "data": {
      "text/plain": [
       "(172821, 2)"
      ]
     },
     "execution_count": 4,
     "metadata": {},
     "output_type": "execute_result"
    }
   ],
   "source": [
    "df.shape"
   ]
  },
  {
   "cell_type": "code",
   "execution_count": 5,
   "id": "da22df90-da9b-42af-a1d0-2c03a66287a2",
   "metadata": {},
   "outputs": [
    {
     "name": "stdout",
     "output_type": "stream",
     "text": [
      "<class 'pandas.core.frame.DataFrame'>\n",
      "Index: 172821 entries, aa to zyzzyvas\n",
      "Data columns (total 2 columns):\n",
      " #   Column      Non-Null Count   Dtype\n",
      "---  ------      --------------   -----\n",
      " 0   Char Count  172821 non-null  int64\n",
      " 1   Value       172821 non-null  int64\n",
      "dtypes: int64(2)\n",
      "memory usage: 4.0+ MB\n"
     ]
    }
   ],
   "source": [
    "df.info()"
   ]
  },
  {
   "cell_type": "markdown",
   "id": "3efb2b4d-55a7-4c39-8124-c2bce42fb1e0",
   "metadata": {},
   "source": [
    "##### What is the value of the word `microspectrophotometries`?"
   ]
  },
  {
   "cell_type": "code",
   "execution_count": 6,
   "id": "4e1f235b-e93c-47fd-8e07-c97caea873c6",
   "metadata": {},
   "outputs": [
    {
     "data": {
      "text/plain": [
       "Char Count     24\n",
       "Value         317\n",
       "Name: microspectrophotometries, dtype: int64"
      ]
     },
     "execution_count": 6,
     "metadata": {},
     "output_type": "execute_result"
    }
   ],
   "source": [
    "df.loc[\"microspectrophotometries\"]"
   ]
  },
  {
   "cell_type": "markdown",
   "id": "8dec0844-9bbe-4e58-ba15-4d4fa017e9cb",
   "metadata": {},
   "source": [
    "##### What is the highest possible value of a word?"
   ]
  },
  {
   "cell_type": "code",
   "execution_count": 7,
   "id": "4ce2d9b4-3680-48c1-a92c-00f7d6d4b069",
   "metadata": {},
   "outputs": [
    {
     "data": {
      "text/html": [
       "<div>\n",
       "<style scoped>\n",
       "    .dataframe tbody tr th:only-of-type {\n",
       "        vertical-align: middle;\n",
       "    }\n",
       "\n",
       "    .dataframe tbody tr th {\n",
       "        vertical-align: top;\n",
       "    }\n",
       "\n",
       "    .dataframe thead th {\n",
       "        text-align: right;\n",
       "    }\n",
       "</style>\n",
       "<table border=\"1\" class=\"dataframe\">\n",
       "  <thead>\n",
       "    <tr style=\"text-align: right;\">\n",
       "      <th></th>\n",
       "      <th>Char Count</th>\n",
       "      <th>Value</th>\n",
       "    </tr>\n",
       "    <tr>\n",
       "      <th>Word</th>\n",
       "      <th></th>\n",
       "      <th></th>\n",
       "    </tr>\n",
       "  </thead>\n",
       "  <tbody>\n",
       "    <tr>\n",
       "      <th>reinstitutionalizations</th>\n",
       "      <td>23</td>\n",
       "      <td>319</td>\n",
       "    </tr>\n",
       "  </tbody>\n",
       "</table>\n",
       "</div>"
      ],
      "text/plain": [
       "                         Char Count  Value\n",
       "Word                                      \n",
       "reinstitutionalizations          23    319"
      ]
     },
     "execution_count": 7,
     "metadata": {},
     "output_type": "execute_result"
    }
   ],
   "source": [
    "df.sort_values(\"Value\",ascending=False).head(1)"
   ]
  },
  {
   "cell_type": "code",
   "execution_count": 8,
   "id": "5749a019-341d-46d7-bb7b-af87a52415ed",
   "metadata": {},
   "outputs": [
    {
     "name": "stdout",
     "output_type": "stream",
     "text": [
      "The highest possible value for a word is 319\n"
     ]
    }
   ],
   "source": [
    "print(f\"The highest possible value for a word is {df.sort_values('Value',ascending=False)['Value'].iloc[0]}\")"
   ]
  },
  {
   "cell_type": "markdown",
   "id": "8728dc3d-0a90-4562-947d-01674a7fe5b3",
   "metadata": {},
   "source": [
    "##### Which of the following words have a Char Count of `7` and a Value of `87`?"
   ]
  },
  {
   "cell_type": "markdown",
   "id": "c90dc0f5-cb71-4f1a-bcb4-d6790db2b88c",
   "metadata": {},
   "source": [
    "\n",
    "glowing, superheterodyne,microbrew,pinfish,enfold"
   ]
  },
  {
   "cell_type": "code",
   "execution_count": 9,
   "id": "aebe41eb-b852-4cbc-99ea-716f36face73",
   "metadata": {},
   "outputs": [
    {
     "name": "stdout",
     "output_type": "stream",
     "text": [
      "The word is : glowing\n"
     ]
    }
   ],
   "source": [
    "mask1=(df[\"Char Count\"] == 7)\n",
    "mask2= (df[\"Value\"] == 87)\n",
    "word_list =[\"glowing\",\"superheterodyne\",\"microbrew\",\"pinfish\",\"enfold\"]\n",
    "print(\"The word is : \",end=\"\")\n",
    "for word in word_list:\n",
    "    if word in df[mask1 & mask2].index:\n",
    "        print(word)"
   ]
  },
  {
   "cell_type": "code",
   "execution_count": 10,
   "id": "7897d960-89ff-4228-8c19-f708bf7dc79d",
   "metadata": {},
   "outputs": [
    {
     "name": "stdout",
     "output_type": "stream",
     "text": [
      "There are 500 words where Char Count is 7 and Value is 87\n"
     ]
    }
   ],
   "source": [
    "count7_value87 = [word for word in df[mask1 & mask2].index]\n",
    "print(f\"There are {len(count7_value87)} words where Char Count is 7 and Value is 87\")"
   ]
  },
  {
   "cell_type": "markdown",
   "id": "9f06056e-7873-43e4-9f05-6d7848ef7356",
   "metadata": {},
   "source": [
    "##### What is the highest possible length of a word?"
   ]
  },
  {
   "cell_type": "code",
   "execution_count": 11,
   "id": "ce84185e-22db-4003-a3e0-020d103a3390",
   "metadata": {},
   "outputs": [
    {
     "data": {
      "text/html": [
       "<div>\n",
       "<style scoped>\n",
       "    .dataframe tbody tr th:only-of-type {\n",
       "        vertical-align: middle;\n",
       "    }\n",
       "\n",
       "    .dataframe tbody tr th {\n",
       "        vertical-align: top;\n",
       "    }\n",
       "\n",
       "    .dataframe thead th {\n",
       "        text-align: right;\n",
       "    }\n",
       "</style>\n",
       "<table border=\"1\" class=\"dataframe\">\n",
       "  <thead>\n",
       "    <tr style=\"text-align: right;\">\n",
       "      <th></th>\n",
       "      <th>Char Count</th>\n",
       "      <th>Value</th>\n",
       "    </tr>\n",
       "    <tr>\n",
       "      <th>Word</th>\n",
       "      <th></th>\n",
       "      <th></th>\n",
       "    </tr>\n",
       "  </thead>\n",
       "  <tbody>\n",
       "    <tr>\n",
       "      <th>ethylenediaminetetraacetates</th>\n",
       "      <td>28</td>\n",
       "      <td>287</td>\n",
       "    </tr>\n",
       "    <tr>\n",
       "      <th>ethylenediaminetetraacetate</th>\n",
       "      <td>27</td>\n",
       "      <td>268</td>\n",
       "    </tr>\n",
       "    <tr>\n",
       "      <th>electroencephalographically</th>\n",
       "      <td>27</td>\n",
       "      <td>269</td>\n",
       "    </tr>\n",
       "  </tbody>\n",
       "</table>\n",
       "</div>"
      ],
      "text/plain": [
       "                              Char Count  Value\n",
       "Word                                           \n",
       "ethylenediaminetetraacetates          28    287\n",
       "ethylenediaminetetraacetate           27    268\n",
       "electroencephalographically           27    269"
      ]
     },
     "execution_count": 11,
     "metadata": {},
     "output_type": "execute_result"
    }
   ],
   "source": [
    "df_char_sort = df.sort_values(\"Char Count\",ascending =False).head(3)\n",
    "df_char_sort"
   ]
  },
  {
   "cell_type": "code",
   "execution_count": 12,
   "id": "560f9a7e-a4e3-4c90-b3ae-8f3ba11cdc16",
   "metadata": {},
   "outputs": [
    {
     "name": "stdout",
     "output_type": "stream",
     "text": [
      "The highest possible length of a word ethylenediaminetetraacetates is 28\n"
     ]
    }
   ],
   "source": [
    "highest_word_len = df_char_sort['Char Count'].iloc[0]\n",
    "highest_word = df_char_sort.index[0]\n",
    "print(f\"The highest possible length of a word {highest_word} is {highest_word_len}\")"
   ]
  },
  {
   "cell_type": "markdown",
   "id": "8086a312-c80f-4908-9f9f-8edb33bd6a87",
   "metadata": {},
   "source": [
    "##### What is the word with the value of `319`?"
   ]
  },
  {
   "cell_type": "code",
   "execution_count": 13,
   "id": "26c6e34f-f606-458f-8ae8-c371a8d74752",
   "metadata": {},
   "outputs": [
    {
     "data": {
      "text/html": [
       "<div>\n",
       "<style scoped>\n",
       "    .dataframe tbody tr th:only-of-type {\n",
       "        vertical-align: middle;\n",
       "    }\n",
       "\n",
       "    .dataframe tbody tr th {\n",
       "        vertical-align: top;\n",
       "    }\n",
       "\n",
       "    .dataframe thead th {\n",
       "        text-align: right;\n",
       "    }\n",
       "</style>\n",
       "<table border=\"1\" class=\"dataframe\">\n",
       "  <thead>\n",
       "    <tr style=\"text-align: right;\">\n",
       "      <th></th>\n",
       "      <th>Char Count</th>\n",
       "      <th>Value</th>\n",
       "    </tr>\n",
       "    <tr>\n",
       "      <th>Word</th>\n",
       "      <th></th>\n",
       "      <th></th>\n",
       "    </tr>\n",
       "  </thead>\n",
       "  <tbody>\n",
       "    <tr>\n",
       "      <th>reinstitutionalizations</th>\n",
       "      <td>23</td>\n",
       "      <td>319</td>\n",
       "    </tr>\n",
       "  </tbody>\n",
       "</table>\n",
       "</div>"
      ],
      "text/plain": [
       "                         Char Count  Value\n",
       "Word                                      \n",
       "reinstitutionalizations          23    319"
      ]
     },
     "execution_count": 13,
     "metadata": {},
     "output_type": "execute_result"
    }
   ],
   "source": [
    "m1 = df[\"Value\"] == 319\n",
    "df[m1]"
   ]
  },
  {
   "cell_type": "markdown",
   "id": "e7824e48-cd48-47ff-b926-d895441f0166",
   "metadata": {},
   "source": [
    "##### What is the most common value?"
   ]
  },
  {
   "cell_type": "code",
   "execution_count": 14,
   "id": "3a6ddf81-1d83-47e0-b57d-503e80d88b7e",
   "metadata": {},
   "outputs": [
    {
     "data": {
      "text/plain": [
       "93     1965\n",
       "100    1921\n",
       "95     1915\n",
       "99     1907\n",
       "92     1902\n",
       "       ... \n",
       "287       1\n",
       "291       1\n",
       "294       1\n",
       "5         1\n",
       "278       1\n",
       "Name: Value, Length: 303, dtype: int64"
      ]
     },
     "execution_count": 14,
     "metadata": {},
     "output_type": "execute_result"
    }
   ],
   "source": [
    "df[\"Value\"].value_counts()"
   ]
  },
  {
   "cell_type": "code",
   "execution_count": 15,
   "id": "158b7cf4-a45b-4e8d-a75e-59d72e1bae15",
   "metadata": {},
   "outputs": [
    {
     "name": "stdout",
     "output_type": "stream",
     "text": [
      "The most common value is 93 occuring 1965 times\n"
     ]
    }
   ],
   "source": [
    "most_c_value = df[\"Value\"].value_counts().index[0]\n",
    "number_of_values = df[\"Value\"].value_counts().iloc[0]\n",
    "print(f\"The most common value is {most_c_value} occuring {number_of_values} times\")"
   ]
  },
  {
   "cell_type": "markdown",
   "id": "09a1ae53-8b58-4b4c-8992-97716b4803a0",
   "metadata": {},
   "source": [
    "##### What is the shortest word with value `274`?"
   ]
  },
  {
   "cell_type": "code",
   "execution_count": 16,
   "id": "14c5f70d-dbac-4203-8949-bcbbb4a948c2",
   "metadata": {},
   "outputs": [
    {
     "name": "stderr",
     "output_type": "stream",
     "text": [
      "C:\\Users\\kbhatnag\\AppData\\Local\\Temp\\ipykernel_1340\\20757711.py:1: UserWarning: Boolean Series key will be reindexed to match DataFrame index.\n",
      "  df.sort_values(\"Char Count\",ascending=True)[df[\"Value\"] == 274]\n"
     ]
    },
    {
     "data": {
      "text/html": [
       "<div>\n",
       "<style scoped>\n",
       "    .dataframe tbody tr th:only-of-type {\n",
       "        vertical-align: middle;\n",
       "    }\n",
       "\n",
       "    .dataframe tbody tr th {\n",
       "        vertical-align: top;\n",
       "    }\n",
       "\n",
       "    .dataframe thead th {\n",
       "        text-align: right;\n",
       "    }\n",
       "</style>\n",
       "<table border=\"1\" class=\"dataframe\">\n",
       "  <thead>\n",
       "    <tr style=\"text-align: right;\">\n",
       "      <th></th>\n",
       "      <th>Char Count</th>\n",
       "      <th>Value</th>\n",
       "    </tr>\n",
       "    <tr>\n",
       "      <th>Word</th>\n",
       "      <th></th>\n",
       "      <th></th>\n",
       "    </tr>\n",
       "  </thead>\n",
       "  <tbody>\n",
       "    <tr>\n",
       "      <th>overprotectivenesses</th>\n",
       "      <td>20</td>\n",
       "      <td>274</td>\n",
       "    </tr>\n",
       "    <tr>\n",
       "      <th>countercountermeasure</th>\n",
       "      <td>21</td>\n",
       "      <td>274</td>\n",
       "    </tr>\n",
       "    <tr>\n",
       "      <th>psychophysiologically</th>\n",
       "      <td>21</td>\n",
       "      <td>274</td>\n",
       "    </tr>\n",
       "  </tbody>\n",
       "</table>\n",
       "</div>"
      ],
      "text/plain": [
       "                       Char Count  Value\n",
       "Word                                    \n",
       "overprotectivenesses           20    274\n",
       "countercountermeasure          21    274\n",
       "psychophysiologically          21    274"
      ]
     },
     "execution_count": 16,
     "metadata": {},
     "output_type": "execute_result"
    }
   ],
   "source": [
    "df.sort_values(\"Char Count\",ascending=True)[df[\"Value\"] == 274]"
   ]
  },
  {
   "cell_type": "code",
   "execution_count": 17,
   "id": "81d44557-d327-4529-985e-e56f3890043c",
   "metadata": {},
   "outputs": [
    {
     "data": {
      "text/html": [
       "<div>\n",
       "<style scoped>\n",
       "    .dataframe tbody tr th:only-of-type {\n",
       "        vertical-align: middle;\n",
       "    }\n",
       "\n",
       "    .dataframe tbody tr th {\n",
       "        vertical-align: top;\n",
       "    }\n",
       "\n",
       "    .dataframe thead th {\n",
       "        text-align: right;\n",
       "    }\n",
       "</style>\n",
       "<table border=\"1\" class=\"dataframe\">\n",
       "  <thead>\n",
       "    <tr style=\"text-align: right;\">\n",
       "      <th></th>\n",
       "      <th>Char Count</th>\n",
       "      <th>Value</th>\n",
       "    </tr>\n",
       "    <tr>\n",
       "      <th>Word</th>\n",
       "      <th></th>\n",
       "      <th></th>\n",
       "    </tr>\n",
       "  </thead>\n",
       "  <tbody>\n",
       "    <tr>\n",
       "      <th>overprotectivenesses</th>\n",
       "      <td>20</td>\n",
       "      <td>274</td>\n",
       "    </tr>\n",
       "    <tr>\n",
       "      <th>countercountermeasure</th>\n",
       "      <td>21</td>\n",
       "      <td>274</td>\n",
       "    </tr>\n",
       "    <tr>\n",
       "      <th>psychophysiologically</th>\n",
       "      <td>21</td>\n",
       "      <td>274</td>\n",
       "    </tr>\n",
       "  </tbody>\n",
       "</table>\n",
       "</div>"
      ],
      "text/plain": [
       "                       Char Count  Value\n",
       "Word                                    \n",
       "overprotectivenesses           20    274\n",
       "countercountermeasure          21    274\n",
       "psychophysiologically          21    274"
      ]
     },
     "execution_count": 17,
     "metadata": {},
     "output_type": "execute_result"
    }
   ],
   "source": [
    "df[df[\"Value\"] == 274].sort_values(\"Char Count\",ascending=True)"
   ]
  },
  {
   "cell_type": "code",
   "execution_count": 18,
   "id": "122b15eb-42a9-4842-b001-ca50f20ff6fe",
   "metadata": {},
   "outputs": [
    {
     "name": "stdout",
     "output_type": "stream",
     "text": [
      "The shortest length of the word with the value 274 is overprotectivenesses, its char count is 20\n"
     ]
    }
   ],
   "source": [
    "word_s = df[df[\"Value\"] == 274].sort_values(\"Char Count\",ascending=True).index[0]\n",
    "word_s_char = df[df[\"Value\"] == 274].sort_values(\"Char Count\",ascending=True)[\"Char Count\"].iloc[0]\n",
    "print(f\"The shortest length of the word with the value 274 is {word_s}, its char count is {word_s_char}\")"
   ]
  },
  {
   "cell_type": "markdown",
   "id": "8b6cde05-8040-4e40-a47a-72b92eaab500",
   "metadata": {},
   "source": [
    "##### Create a column `Ratio` which represents the 'Value Ratio' of a word"
   ]
  },
  {
   "cell_type": "markdown",
   "id": "a61883d1-afca-42b2-bde4-a4a827fc89ef",
   "metadata": {},
   "source": [
    "ValueRatio(word) = Value(word) / Char Count(word)"
   ]
  },
  {
   "cell_type": "code",
   "execution_count": 19,
   "id": "892dd78b-5fa0-4401-81e2-946d2724689f",
   "metadata": {},
   "outputs": [
    {
     "data": {
      "text/html": [
       "<div>\n",
       "<style scoped>\n",
       "    .dataframe tbody tr th:only-of-type {\n",
       "        vertical-align: middle;\n",
       "    }\n",
       "\n",
       "    .dataframe tbody tr th {\n",
       "        vertical-align: top;\n",
       "    }\n",
       "\n",
       "    .dataframe thead th {\n",
       "        text-align: right;\n",
       "    }\n",
       "</style>\n",
       "<table border=\"1\" class=\"dataframe\">\n",
       "  <thead>\n",
       "    <tr style=\"text-align: right;\">\n",
       "      <th></th>\n",
       "      <th>Char Count</th>\n",
       "      <th>Value</th>\n",
       "      <th>Value Ratio</th>\n",
       "    </tr>\n",
       "    <tr>\n",
       "      <th>Word</th>\n",
       "      <th></th>\n",
       "      <th></th>\n",
       "      <th></th>\n",
       "    </tr>\n",
       "  </thead>\n",
       "  <tbody>\n",
       "    <tr>\n",
       "      <th>aa</th>\n",
       "      <td>2</td>\n",
       "      <td>2</td>\n",
       "      <td>1.000000</td>\n",
       "    </tr>\n",
       "    <tr>\n",
       "      <th>aah</th>\n",
       "      <td>3</td>\n",
       "      <td>10</td>\n",
       "      <td>3.333333</td>\n",
       "    </tr>\n",
       "    <tr>\n",
       "      <th>aahed</th>\n",
       "      <td>5</td>\n",
       "      <td>19</td>\n",
       "      <td>3.800000</td>\n",
       "    </tr>\n",
       "    <tr>\n",
       "      <th>aahing</th>\n",
       "      <td>6</td>\n",
       "      <td>40</td>\n",
       "      <td>6.666667</td>\n",
       "    </tr>\n",
       "    <tr>\n",
       "      <th>aahs</th>\n",
       "      <td>4</td>\n",
       "      <td>29</td>\n",
       "      <td>7.250000</td>\n",
       "    </tr>\n",
       "    <tr>\n",
       "      <th>...</th>\n",
       "      <td>...</td>\n",
       "      <td>...</td>\n",
       "      <td>...</td>\n",
       "    </tr>\n",
       "    <tr>\n",
       "      <th>zymotic</th>\n",
       "      <td>7</td>\n",
       "      <td>111</td>\n",
       "      <td>15.857143</td>\n",
       "    </tr>\n",
       "    <tr>\n",
       "      <th>zymurgies</th>\n",
       "      <td>9</td>\n",
       "      <td>143</td>\n",
       "      <td>15.888889</td>\n",
       "    </tr>\n",
       "    <tr>\n",
       "      <th>zymurgy</th>\n",
       "      <td>7</td>\n",
       "      <td>135</td>\n",
       "      <td>19.285714</td>\n",
       "    </tr>\n",
       "    <tr>\n",
       "      <th>zyzzyva</th>\n",
       "      <td>7</td>\n",
       "      <td>151</td>\n",
       "      <td>21.571429</td>\n",
       "    </tr>\n",
       "    <tr>\n",
       "      <th>zyzzyvas</th>\n",
       "      <td>8</td>\n",
       "      <td>170</td>\n",
       "      <td>21.250000</td>\n",
       "    </tr>\n",
       "  </tbody>\n",
       "</table>\n",
       "<p>172821 rows × 3 columns</p>\n",
       "</div>"
      ],
      "text/plain": [
       "           Char Count  Value  Value Ratio\n",
       "Word                                     \n",
       "aa                  2      2     1.000000\n",
       "aah                 3     10     3.333333\n",
       "aahed               5     19     3.800000\n",
       "aahing              6     40     6.666667\n",
       "aahs                4     29     7.250000\n",
       "...               ...    ...          ...\n",
       "zymotic             7    111    15.857143\n",
       "zymurgies           9    143    15.888889\n",
       "zymurgy             7    135    19.285714\n",
       "zyzzyva             7    151    21.571429\n",
       "zyzzyvas            8    170    21.250000\n",
       "\n",
       "[172821 rows x 3 columns]"
      ]
     },
     "execution_count": 19,
     "metadata": {},
     "output_type": "execute_result"
    }
   ],
   "source": [
    "df1=df\n",
    "df1[\"Value Ratio\"] = df1[\"Value\"]/df1[\"Char Count\"]\n",
    "df1"
   ]
  },
  {
   "cell_type": "markdown",
   "id": "1bc9f714-432d-47b5-b8ad-619a0702af16",
   "metadata": {},
   "source": [
    "##### What is the maximum value of `Ratio`?"
   ]
  },
  {
   "cell_type": "code",
   "execution_count": 20,
   "id": "18887962-8fdc-43ad-adc7-9c87063439a1",
   "metadata": {},
   "outputs": [
    {
     "data": {
      "text/html": [
       "<div>\n",
       "<style scoped>\n",
       "    .dataframe tbody tr th:only-of-type {\n",
       "        vertical-align: middle;\n",
       "    }\n",
       "\n",
       "    .dataframe tbody tr th {\n",
       "        vertical-align: top;\n",
       "    }\n",
       "\n",
       "    .dataframe thead th {\n",
       "        text-align: right;\n",
       "    }\n",
       "</style>\n",
       "<table border=\"1\" class=\"dataframe\">\n",
       "  <thead>\n",
       "    <tr style=\"text-align: right;\">\n",
       "      <th></th>\n",
       "      <th>Char Count</th>\n",
       "      <th>Value</th>\n",
       "      <th>Value Ratio</th>\n",
       "    </tr>\n",
       "    <tr>\n",
       "      <th>Word</th>\n",
       "      <th></th>\n",
       "      <th></th>\n",
       "      <th></th>\n",
       "    </tr>\n",
       "  </thead>\n",
       "  <tbody>\n",
       "    <tr>\n",
       "      <th>xu</th>\n",
       "      <td>2</td>\n",
       "      <td>45</td>\n",
       "      <td>22.500000</td>\n",
       "    </tr>\n",
       "    <tr>\n",
       "      <th>muzzy</th>\n",
       "      <td>5</td>\n",
       "      <td>111</td>\n",
       "      <td>22.200000</td>\n",
       "    </tr>\n",
       "    <tr>\n",
       "      <th>wry</th>\n",
       "      <td>3</td>\n",
       "      <td>66</td>\n",
       "      <td>22.000000</td>\n",
       "    </tr>\n",
       "    <tr>\n",
       "      <th>xyst</th>\n",
       "      <td>4</td>\n",
       "      <td>88</td>\n",
       "      <td>22.000000</td>\n",
       "    </tr>\n",
       "    <tr>\n",
       "      <th>pyx</th>\n",
       "      <td>3</td>\n",
       "      <td>65</td>\n",
       "      <td>21.666667</td>\n",
       "    </tr>\n",
       "    <tr>\n",
       "      <th>...</th>\n",
       "      <td>...</td>\n",
       "      <td>...</td>\n",
       "      <td>...</td>\n",
       "    </tr>\n",
       "    <tr>\n",
       "      <th>ab</th>\n",
       "      <td>2</td>\n",
       "      <td>3</td>\n",
       "      <td>1.500000</td>\n",
       "    </tr>\n",
       "    <tr>\n",
       "      <th>baba</th>\n",
       "      <td>4</td>\n",
       "      <td>6</td>\n",
       "      <td>1.500000</td>\n",
       "    </tr>\n",
       "    <tr>\n",
       "      <th>aba</th>\n",
       "      <td>3</td>\n",
       "      <td>4</td>\n",
       "      <td>1.333333</td>\n",
       "    </tr>\n",
       "    <tr>\n",
       "      <th>baa</th>\n",
       "      <td>3</td>\n",
       "      <td>4</td>\n",
       "      <td>1.333333</td>\n",
       "    </tr>\n",
       "    <tr>\n",
       "      <th>aa</th>\n",
       "      <td>2</td>\n",
       "      <td>2</td>\n",
       "      <td>1.000000</td>\n",
       "    </tr>\n",
       "  </tbody>\n",
       "</table>\n",
       "<p>172821 rows × 3 columns</p>\n",
       "</div>"
      ],
      "text/plain": [
       "       Char Count  Value  Value Ratio\n",
       "Word                                 \n",
       "xu              2     45    22.500000\n",
       "muzzy           5    111    22.200000\n",
       "wry             3     66    22.000000\n",
       "xyst            4     88    22.000000\n",
       "pyx             3     65    21.666667\n",
       "...           ...    ...          ...\n",
       "ab              2      3     1.500000\n",
       "baba            4      6     1.500000\n",
       "aba             3      4     1.333333\n",
       "baa             3      4     1.333333\n",
       "aa              2      2     1.000000\n",
       "\n",
       "[172821 rows x 3 columns]"
      ]
     },
     "execution_count": 20,
     "metadata": {},
     "output_type": "execute_result"
    }
   ],
   "source": [
    "df1.sort_values(\"Value Ratio\",ascending=False)"
   ]
  },
  {
   "cell_type": "code",
   "execution_count": 21,
   "id": "dd31bd4a-5fb4-46d9-94ef-7330ee34f7d4",
   "metadata": {},
   "outputs": [
    {
     "name": "stdout",
     "output_type": "stream",
     "text": [
      "Maximum Ratio 22.5\n",
      "Maximum Ratio word xu\n"
     ]
    }
   ],
   "source": [
    "highest_ratio = df1.sort_values(\"Value Ratio\",ascending=False)[\"Value Ratio\"].iloc[0]\n",
    "highest_ratio_word =df1.sort_values(\"Value Ratio\",ascending=False).index[0]\n",
    "print(f\"Maximum Ratio {highest_ratio}\\nMaximum Ratio word {highest_ratio_word}\")"
   ]
  },
  {
   "cell_type": "markdown",
   "id": "827602c9-9686-4e12-ab47-01f30e2532ef",
   "metadata": {},
   "source": [
    "##### What word is the one with the highest `Ratio`?"
   ]
  },
  {
   "cell_type": "code",
   "execution_count": 22,
   "id": "6e735907-69c4-482b-8412-f3ebd7d2801f",
   "metadata": {},
   "outputs": [
    {
     "name": "stdout",
     "output_type": "stream",
     "text": [
      "Maximum Ratio 22.5\n",
      "Maximum Ratio word xu\n"
     ]
    }
   ],
   "source": [
    "highest_ratio = df1.sort_values(\"Value Ratio\",ascending=False).iloc[0][\"Value Ratio\"]\n",
    "highest_ratio_word =df1.sort_values(\"Value Ratio\",ascending=False).index[0]\n",
    "print(f\"Maximum Ratio {highest_ratio}\\nMaximum Ratio word {highest_ratio_word}\")"
   ]
  },
  {
   "cell_type": "markdown",
   "id": "93717060-60b1-4be5-a0b0-41e5a9d21fa2",
   "metadata": {},
   "source": [
    "##### How many words have a `Ratio` of `10`?"
   ]
  },
  {
   "cell_type": "code",
   "execution_count": 23,
   "id": "eb2d169a-2b56-4087-8da4-0d86ef57de91",
   "metadata": {},
   "outputs": [
    {
     "name": "stdout",
     "output_type": "stream",
     "text": [
      "Number of words having ratio 10 are 2604\n"
     ]
    }
   ],
   "source": [
    "r_mask1 = df1[\"Value Ratio\"] == 10\n",
    "tot_words_10 = df1[r_mask1].shape[0] \n",
    "print(f\"Number of words having ratio 10 are {tot_words_10}\")"
   ]
  },
  {
   "cell_type": "markdown",
   "id": "a05b7fcb-bd53-4a46-8a97-bd7ee87d97c1",
   "metadata": {},
   "source": [
    "##### What is the maximum `Value` of all the words with a `Ratio` of `10`?"
   ]
  },
  {
   "cell_type": "code",
   "execution_count": 24,
   "id": "8b6571b8-bf29-41ff-88f4-dca665280a40",
   "metadata": {},
   "outputs": [
    {
     "data": {
      "text/html": [
       "<div>\n",
       "<style scoped>\n",
       "    .dataframe tbody tr th:only-of-type {\n",
       "        vertical-align: middle;\n",
       "    }\n",
       "\n",
       "    .dataframe tbody tr th {\n",
       "        vertical-align: top;\n",
       "    }\n",
       "\n",
       "    .dataframe thead th {\n",
       "        text-align: right;\n",
       "    }\n",
       "</style>\n",
       "<table border=\"1\" class=\"dataframe\">\n",
       "  <thead>\n",
       "    <tr style=\"text-align: right;\">\n",
       "      <th></th>\n",
       "      <th>Char Count</th>\n",
       "      <th>Value</th>\n",
       "      <th>Value Ratio</th>\n",
       "    </tr>\n",
       "    <tr>\n",
       "      <th>Word</th>\n",
       "      <th></th>\n",
       "      <th></th>\n",
       "      <th></th>\n",
       "    </tr>\n",
       "  </thead>\n",
       "  <tbody>\n",
       "    <tr>\n",
       "      <th>electrocardiographically</th>\n",
       "      <td>24</td>\n",
       "      <td>240</td>\n",
       "      <td>10.0</td>\n",
       "    </tr>\n",
       "    <tr>\n",
       "      <th>electroencephalographies</th>\n",
       "      <td>24</td>\n",
       "      <td>240</td>\n",
       "      <td>10.0</td>\n",
       "    </tr>\n",
       "    <tr>\n",
       "      <th>electroencephalographer</th>\n",
       "      <td>23</td>\n",
       "      <td>230</td>\n",
       "      <td>10.0</td>\n",
       "    </tr>\n",
       "    <tr>\n",
       "      <th>phonocardiographic</th>\n",
       "      <td>18</td>\n",
       "      <td>180</td>\n",
       "      <td>10.0</td>\n",
       "    </tr>\n",
       "    <tr>\n",
       "      <th>inconceivabilities</th>\n",
       "      <td>18</td>\n",
       "      <td>180</td>\n",
       "      <td>10.0</td>\n",
       "    </tr>\n",
       "    <tr>\n",
       "      <th>...</th>\n",
       "      <td>...</td>\n",
       "      <td>...</td>\n",
       "      <td>...</td>\n",
       "    </tr>\n",
       "    <tr>\n",
       "      <th>web</th>\n",
       "      <td>3</td>\n",
       "      <td>30</td>\n",
       "      <td>10.0</td>\n",
       "    </tr>\n",
       "    <tr>\n",
       "      <th>bug</th>\n",
       "      <td>3</td>\n",
       "      <td>30</td>\n",
       "      <td>10.0</td>\n",
       "    </tr>\n",
       "    <tr>\n",
       "      <th>elm</th>\n",
       "      <td>3</td>\n",
       "      <td>30</td>\n",
       "      <td>10.0</td>\n",
       "    </tr>\n",
       "    <tr>\n",
       "      <th>as</th>\n",
       "      <td>2</td>\n",
       "      <td>20</td>\n",
       "      <td>10.0</td>\n",
       "    </tr>\n",
       "    <tr>\n",
       "      <th>oe</th>\n",
       "      <td>2</td>\n",
       "      <td>20</td>\n",
       "      <td>10.0</td>\n",
       "    </tr>\n",
       "  </tbody>\n",
       "</table>\n",
       "<p>2604 rows × 3 columns</p>\n",
       "</div>"
      ],
      "text/plain": [
       "                          Char Count  Value  Value Ratio\n",
       "Word                                                    \n",
       "electrocardiographically          24    240         10.0\n",
       "electroencephalographies          24    240         10.0\n",
       "electroencephalographer           23    230         10.0\n",
       "phonocardiographic                18    180         10.0\n",
       "inconceivabilities                18    180         10.0\n",
       "...                              ...    ...          ...\n",
       "web                                3     30         10.0\n",
       "bug                                3     30         10.0\n",
       "elm                                3     30         10.0\n",
       "as                                 2     20         10.0\n",
       "oe                                 2     20         10.0\n",
       "\n",
       "[2604 rows x 3 columns]"
      ]
     },
     "execution_count": 24,
     "metadata": {},
     "output_type": "execute_result"
    }
   ],
   "source": [
    "df1[r_mask1].sort_values(\"Value\",ascending=False)"
   ]
  },
  {
   "cell_type": "code",
   "execution_count": 25,
   "id": "41859000-13ca-4831-8aab-e92e4db6e774",
   "metadata": {},
   "outputs": [
    {
     "data": {
      "text/plain": [
       "240"
      ]
     },
     "execution_count": 25,
     "metadata": {},
     "output_type": "execute_result"
    }
   ],
   "source": [
    "df1[r_mask1].sort_values(\"Value\",ascending=False)[\"Value\"].iloc[0]"
   ]
  },
  {
   "cell_type": "markdown",
   "id": "7bfda46f-ad7b-45f1-911f-78b7936e1308",
   "metadata": {},
   "source": [
    "##### Of those words with a `Value` of `260`, what is the lowest `Char Count` found?"
   ]
  },
  {
   "cell_type": "code",
   "execution_count": 26,
   "id": "5db0ba60-0382-4f86-a744-12df9ffaaabf",
   "metadata": {},
   "outputs": [
    {
     "data": {
      "text/plain": [
       "17"
      ]
     },
     "execution_count": 26,
     "metadata": {},
     "output_type": "execute_result"
    }
   ],
   "source": [
    "l_mask1 = df1[\"Value\"] == 260\n",
    "df1[l_mask1].sort_values(\"Char Count\",ascending=True)[\"Char Count\"].iloc[0]"
   ]
  },
  {
   "cell_type": "markdown",
   "id": "aaef4105-f4ce-49dc-8dd5-b600ceb27d90",
   "metadata": {},
   "source": [
    "##### Based on the previous task, what word is it?"
   ]
  },
  {
   "cell_type": "code",
   "execution_count": 27,
   "id": "df88ab67-22cb-46fb-a942-bc55a53ff31d",
   "metadata": {},
   "outputs": [
    {
     "data": {
      "text/plain": [
       "Word\n",
       "hydroxytryptamine       17\n",
       "neuropsychologists      18\n",
       "psychophysiologist      18\n",
       "revolutionarinesses     19\n",
       "countermobilizations    20\n",
       "underrepresentations    20\n",
       "Name: Char Count, dtype: int64"
      ]
     },
     "execution_count": 27,
     "metadata": {},
     "output_type": "execute_result"
    }
   ],
   "source": [
    "df1[l_mask1].sort_values(\"Char Count\",ascending=True)[\"Char Count\"]"
   ]
  },
  {
   "cell_type": "code",
   "execution_count": 28,
   "id": "97a3a9f6-7eb8-4537-b48c-021a260989ab",
   "metadata": {},
   "outputs": [
    {
     "data": {
      "text/plain": [
       "'hydroxytryptamine'"
      ]
     },
     "execution_count": 28,
     "metadata": {},
     "output_type": "execute_result"
    }
   ],
   "source": [
    "df1[l_mask1].sort_values(\"Char Count\",ascending=True)[\"Char Count\"].index[0]"
   ]
  }
 ],
 "metadata": {
  "kernelspec": {
   "display_name": "Python 3 (ipykernel)",
   "language": "python",
   "name": "python3"
  },
  "language_info": {
   "codemirror_mode": {
    "name": "ipython",
    "version": 3
   },
   "file_extension": ".py",
   "mimetype": "text/x-python",
   "name": "python",
   "nbconvert_exporter": "python",
   "pygments_lexer": "ipython3",
   "version": "3.9.13"
  }
 },
 "nbformat": 4,
 "nbformat_minor": 5
}
